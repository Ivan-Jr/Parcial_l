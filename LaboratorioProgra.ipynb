{
  "nbformat": 4,
  "nbformat_minor": 0,
  "metadata": {
    "colab": {
      "provenance": [],
      "authorship_tag": "ABX9TyPzbc3fJ4b1lNdxIVPazXna",
      "include_colab_link": true
    },
    "kernelspec": {
      "name": "python3",
      "display_name": "Python 3"
    },
    "language_info": {
      "name": "python"
    }
  },
  "cells": [
    {
      "cell_type": "markdown",
      "metadata": {
        "id": "view-in-github",
        "colab_type": "text"
      },
      "source": [
        "<a href=\"https://colab.research.google.com/github/Ivan-Jr/Parcial_l/blob/main/LaboratorioProgra.ipynb\" target=\"_parent\"><img src=\"https://colab.research.google.com/assets/colab-badge.svg\" alt=\"Open In Colab\"/></a>"
      ]
    },
    {
      "cell_type": "code",
      "execution_count": null,
      "metadata": {
        "id": "OoUVvS6aA1xn"
      },
      "outputs": [],
      "source": []
    },
    {
      "cell_type": "markdown",
      "source": [
        "Desarrolle la tabla de meses acumulados a n meses"
      ],
      "metadata": {
        "id": "RX32aVflA86q"
      }
    },
    {
      "cell_type": "code",
      "source": [
        "def calcular_interes_acumulado(mes):\n",
        "    acumulacion = 1\n",
        "\n",
        "    for i in range(2, mes + 1):\n",
        "        acumulacion += i\n",
        "\n",
        "    return acumulacion\n",
        "\n",
        "mes = int(input(\"Ingresa el número del mes: \"))\n",
        "interes_acumulado = calcular_interes_acumulado(mes)\n",
        "print(f\"El interés acumulado en el mes {mes} es: {interes_acumulado}\")\n"
      ],
      "metadata": {
        "colab": {
          "base_uri": "https://localhost:8080/"
        },
        "id": "WvCHZQxgLIH2",
        "outputId": "31fe6604-6c05-4e5e-9aae-49b219c6728b"
      },
      "execution_count": 3,
      "outputs": [
        {
          "output_type": "stream",
          "name": "stdout",
          "text": [
            "Ingresa el número del mes: 20\n",
            "El interés acumulado en el mes 20 es: 210\n"
          ]
        }
      ]
    },
    {
      "cell_type": "markdown",
      "source": [],
      "metadata": {
        "id": "5FfjEQ4rLBKg"
      }
    }
  ]
}